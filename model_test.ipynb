{
  "cells": [
    {
      "cell_type": "code",
      "execution_count": null,
      "metadata": {
        "colab": {
          "background_save": true
        },
        "id": "rrgK0Ggw8BGZ",
        "outputId": "7cc94288-e778-45c9-8610-730d6ab9133a"
      },
      "outputs": [
        {
          "name": "stdout",
          "output_type": "stream",
          "text": [
            "Test accuracy: 0.9356725215911865\n"
          ]
        }
      ],
      "source": [
        "import os\n",
        "no_diabetic_test = os.listdir(\"/content/drive/MyDrive/Smart Med Tech/ThermoFoot Dataset/val/Control Group\")\n",
        "diabetic_test = os.listdir(\"/content/drive/MyDrive/Smart Med Tech/ThermoFoot Dataset/val/DM Group\")\n",
        "\n",
        "import tensorflow as tf\n",
        "import cv2\n",
        "import numpy as np\n",
        "\n",
        "label_test = []\n",
        "images_test = []\n",
        "folder_control = \"/content/drive/MyDrive/Smart Med Tech/ThermoFoot Dataset/val/Control Group/\"\n",
        "for image in no_diabetic_test:\n",
        "  path = folder_control+image\n",
        "  img = cv2.imread(path)\n",
        "  if img.shape == (224,224,3):\n",
        "    label_test.append(0)\n",
        "    images_test.append(img)\n",
        "\n",
        "folder_dm = \"/content/drive/MyDrive/Smart Med Tech/ThermoFoot Dataset/val/DM Group/\"\n",
        "for image in diabetic_test:\n",
        "  path = folder_dm + image\n",
        "  img = cv2.imread(path)\n",
        "  if img.shape == (224,224,3):\n",
        "    label_test.append(1)\n",
        "    images_test.append(img)\n",
        "\n",
        "images_test = np.asarray([np.asarray(image) for image in images_test])\n",
        "label_test = np.asarray(label_test)\n",
        "\n",
        "\n",
        "\n",
        "test_images = images_test.astype('float32') / 255\n",
        "test_labels = tf.keras.utils.to_categorical(label_test, num_classes=2)\n",
        "\n",
        "#load model\n",
        "\n",
        "model = tf.keras.models.load_model('/content/drive/MyDrive/VGG16_custom')\n",
        "\n",
        "# Accuracy\n",
        "test_loss, test_acc = model.evaluate(test_images, test_labels, verbose=0)\n",
        "print(f'Test accuracy: {test_acc}')"
      ]
    }
  ],
  "metadata": {
    "accelerator": "GPU",
    "colab": {
      "provenance": []
    },
    "kernelspec": {
      "display_name": "Python 3",
      "name": "python3"
    },
    "language_info": {
      "name": "python"
    }
  },
  "nbformat": 4,
  "nbformat_minor": 0
}