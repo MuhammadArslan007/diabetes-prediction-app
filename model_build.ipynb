{
  "cells": [
    {
      "cell_type": "code",
      "execution_count": null,
      "metadata": {
        "id": "Z0np3WdU4KPX"
      },
      "outputs": [],
      "source": []
    },
    {
      "cell_type": "code",
      "execution_count": null,
      "metadata": {
        "colab": {
          "base_uri": "https://localhost:8080/"
        },
        "id": "lAXtoo_o4Lvx",
        "outputId": "198562d6-7716-41ef-e7e4-3fb87cfadcfd"
      },
      "outputs": [
        {
          "output_type": "stream",
          "name": "stdout",
          "text": [
            "Downloading data from https://storage.googleapis.com/tensorflow/keras-applications/vgg16/vgg16_weights_tf_dim_ordering_tf_kernels_notop.h5\n",
            "58889256/58889256 [==============================] - 4s 0us/step\n"
          ]
        }
      ],
      "source": [
        "\n",
        "import numpy as np\n",
        "import tensorflow as tf\n",
        "from tensorflow.keras.applications import VGG16\n",
        "from tensorflow.keras.models import Model\n",
        "from tensorflow.keras.layers import Dense, Flatten\n",
        "from tensorflow.keras.optimizers import Adam\n",
        "\n",
        "import os\n",
        "no_diabetic_train = os.listdir(\"/content/drive/MyDrive/Smart Med Tech/ThermoFoot Dataset/train/Control Group\")\n",
        "diabetic_train = os.listdir(\"/content/drive/MyDrive/Smart Med Tech/ThermoFoot Dataset/train/DM Group\")\n",
        "\n",
        "\n",
        "\n",
        "import cv2\n",
        "label_train = []\n",
        "images_train = []\n",
        "folder_control = \"/content/drive/MyDrive/Smart Med Tech/ThermoFoot Dataset/train/Control Group/\"\n",
        "for image in no_diabetic_train:\n",
        "  path = folder_control+image\n",
        "  img = cv2.imread(path)\n",
        "  if img.shape == (224,224,3):\n",
        "    label_train.append(0)\n",
        "    images_train.append(img)\n",
        "\n",
        "folder_dm = \"/content/drive/MyDrive/Smart Med Tech/ThermoFoot Dataset/train/DM Group/\"\n",
        "for image in diabetic_train:\n",
        "  path = folder_dm + image\n",
        "  img = cv2.imread(path)\n",
        "  if img.shape == (224,224,3):\n",
        "    label_train.append(1)\n",
        "    images_train.append(img)\n",
        "\n",
        "import random\n",
        "import numpy as np\n",
        "temp = list(zip(images_train,label_train))\n",
        "random.shuffle(temp)\n",
        "images_train,label_train  = zip(*temp)\n",
        "images_train = np.asarray([np.asarray(image) for image in images_train])\n",
        "label_train = np.asarray(label_train)\n",
        "\n",
        "\n",
        "train_images = images_train.astype('float32') / 255\n",
        "train_labels = tf.keras.utils.to_categorical(label_train, num_classes=2)\n",
        "\n",
        "\n",
        "\n",
        "\n",
        "# Load the pre-trained VGG16 model\n",
        "vgg = VGG16(weights='imagenet', include_top=False, input_shape=(224, 224, 3))\n",
        "\n",
        "# Freeze all layers in VGG16\n",
        "for layer in vgg.layers:\n",
        "    layer.trainable = False\n",
        "# Add custom dense layers on top of VGG16\n",
        "x = Flatten()(vgg.output)\n",
        "x = Dense(256, activation='relu')(x)\n",
        "x = Dense(2, activation='softmax')(x)\n",
        "\n",
        "# Create the fine-tuned model\n",
        "model = Model(inputs=vgg.input, outputs=x)\n",
        "\n",
        "# Unfreeze the last few layers for fine-tuning\n",
        "for layer in model.layers[-5:]:\n",
        "    layer.trainable = True\n",
        "\n",
        "# Define a custom optimizer with a lower learning rate for fine-tuning\n",
        "custom_optimizer = Adam(learning_rate=0.0001)\n",
        "model.compile(loss='categorical_crossentropy', optimizer=custom_optimizer, metrics=['accuracy'])\n",
        "\n",
        "\n",
        "history = model.fit(train_images, train_labels, epochs=10, batch_size=32, verbose=0)\n",
        "\n",
        "model.save('/content/drive/MyDrive/VGG16_custom-v1')"
      ]
    },
    {
      "cell_type": "code",
      "execution_count": null,
      "metadata": {
        "id": "CQ4KiFKGKLRB"
      },
      "outputs": [],
      "source": []
    }
  ],
  "metadata": {
    "colab": {
      "provenance": []
    },
    "kernelspec": {
      "display_name": "Python 3",
      "name": "python3"
    },
    "language_info": {
      "name": "python"
    }
  },
  "nbformat": 4,
  "nbformat_minor": 0
}